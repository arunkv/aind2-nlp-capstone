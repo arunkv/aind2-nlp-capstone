{
 "cells": [
  {
   "cell_type": "markdown",
   "metadata": {
    "collapsed": true
   },
   "source": [
    "# Artificial Intelligence Nanodegree\n",
    "## Machine Translation Project\n",
    "In this notebook, sections that end with **'(IMPLEMENTATION)'** in the header indicate that the following blocks of code will require additional functionality which you must provide. Please be sure to read the instructions carefully!\n",
    "\n",
    "## Introduction\n",
    "In this notebook, you will build a deep neural network that functions as part of an end-to-end machine translation pipeline. Your completed pipeline will accept English text as input and return the French translation.\n",
    "\n",
    "- **Preprocess** - You'll convert text to sequence of integers.\n",
    "- **Models** Create models which accepts a sequence of integers as input and returns a probability distribution over possible translations. After learning about the basic types of neural networks that are often used for machine translation, you will engage in your own investigations, to design your own model!\n",
    "- **Prediction** Run the model on English text.\n",
    "\n",
    "## Dataset\n",
    "We begin by investigating the dataset that will be used to train and evaluate your pipeline.  The most common datasets used for machine translation are from [WMT](http://www.statmt.org/).  However, that will take a long time to train a neural network on.  We'll be using a dataset we created for this project that contains a small vocabulary.  You'll be able to train your model in a reasonable time with this dataset.\n",
    "### Load Data\n",
    "The data is located in `data/small_vocab_en` and `data/small_vocab_fr`. The `small_vocab_en` file contains English sentences with their French translations in the `small_vocab_fr` file. Load the English and French data from these files from running the cell below."
   ]
  },
  {
   "cell_type": "code",
   "execution_count": 1,
   "metadata": {},
   "outputs": [
    {
     "name": "stdout",
     "output_type": "stream",
     "text": [
      "Dataset Loaded\n"
     ]
    }
   ],
   "source": [
    "import helper\n",
    "\n",
    "\n",
    "# Load English data\n",
    "english_sentences = helper.load_data('data/small_vocab_en')\n",
    "# Load French data\n",
    "french_sentences = helper.load_data('data/small_vocab_fr')\n",
    "\n",
    "print('Dataset Loaded')"
   ]
  },
  {
   "cell_type": "markdown",
   "metadata": {},
   "source": [
    "### Files\n",
    "Each line in `small_vocab_en` contains an English sentence with the respective translation in each line of `small_vocab_fr`.  View the first two lines from each file."
   ]
  },
  {
   "cell_type": "code",
   "execution_count": 2,
   "metadata": {},
   "outputs": [
    {
     "name": "stdout",
     "output_type": "stream",
     "text": [
      "small_vocab_en Line 1:  new jersey is sometimes quiet during autumn , and it is snowy in april .\n",
      "small_vocab_fr Line 1:  new jersey est parfois calme pendant l' automne , et il est neigeux en avril .\n",
      "small_vocab_en Line 2:  the united states is usually chilly during july , and it is usually freezing in november .\n",
      "small_vocab_fr Line 2:  les états-unis est généralement froid en juillet , et il gèle habituellement en novembre .\n"
     ]
    }
   ],
   "source": [
    "for sample_i in range(2):\n",
    "    print('small_vocab_en Line {}:  {}'.format(sample_i + 1, english_sentences[sample_i]))\n",
    "    print('small_vocab_fr Line {}:  {}'.format(sample_i + 1, french_sentences[sample_i]))"
   ]
  },
  {
   "cell_type": "markdown",
   "metadata": {},
   "source": [
    "From looking at the sentences, you can see they have been preprocessed already.  The puncuations have been delimited using spaces. All the text have been converted to lowercase.  This should save you some time, but the text requires more preprocessing.\n",
    "### Vocabulary\n",
    "The complexity of the problem is determined by the complexity of the vocabulary.  A more complex vocabulary is a more complex problem.  Let's look at the complexity of the dataset we'll be working with."
   ]
  },
  {
   "cell_type": "code",
   "execution_count": 3,
   "metadata": {},
   "outputs": [
    {
     "name": "stdout",
     "output_type": "stream",
     "text": [
      "1823250 English words.\n",
      "227 unique English words.\n",
      "10 Most common words in the English dataset:\n",
      "\"is\" \",\" \".\" \"in\" \"it\" \"during\" \"the\" \"but\" \"and\" \"sometimes\"\n",
      "\n",
      "1961295 French words.\n",
      "355 unique French words.\n",
      "10 Most common words in the French dataset:\n",
      "\"est\" \".\" \",\" \"en\" \"il\" \"les\" \"mais\" \"et\" \"la\" \"parfois\"\n"
     ]
    }
   ],
   "source": [
    "import collections\n",
    "\n",
    "\n",
    "english_words_counter = collections.Counter([word for sentence in english_sentences for word in sentence.split()])\n",
    "french_words_counter = collections.Counter([word for sentence in french_sentences for word in sentence.split()])\n",
    "\n",
    "print('{} English words.'.format(len([word for sentence in english_sentences for word in sentence.split()])))\n",
    "print('{} unique English words.'.format(len(english_words_counter)))\n",
    "print('10 Most common words in the English dataset:')\n",
    "print('\"' + '\" \"'.join(list(zip(*english_words_counter.most_common(10)))[0]) + '\"')\n",
    "print()\n",
    "print('{} French words.'.format(len([word for sentence in french_sentences for word in sentence.split()])))\n",
    "print('{} unique French words.'.format(len(french_words_counter)))\n",
    "print('10 Most common words in the French dataset:')\n",
    "print('\"' + '\" \"'.join(list(zip(*french_words_counter.most_common(10)))[0]) + '\"')"
   ]
  },
  {
   "cell_type": "markdown",
   "metadata": {},
   "source": [
    "For comparison, _Alice's Adventures in Wonderland_ contains 2,766 unique words of a total of 15,500 words.\n",
    "## Preprocess\n",
    "For this project, you won't use text data as input to your model. Instead, you'll convert the text into sequences of integers using the following preprocess methods:\n",
    "1. Tokenize the words into ids\n",
    "2. Add padding to make all the sequences the same length.\n",
    "\n",
    "Time to start preprocessing the data...\n",
    "### Tokenize (IMPLEMENTATION)\n",
    "For a neural network to predict on text data, it first has to be turned into data it can understand. Text data like \"dog\" is a sequence of ASCII character encodings.  Since a neural network is a series of multiplication and addition operations, the input data needs to be number(s).\n",
    "\n",
    "We can turn each character into a number or each word into a number.  These are called character and word ids, respectively.  Character ids are used for character level models that generate text predictions for each character.  A word level model uses word ids that generate text predictions for each word.  Word level models tend to learn better, since they are lower in complexity, so we'll use those.\n",
    "\n",
    "Turn each sentence into a sequence of words ids using Keras's [`Tokenizer`](https://keras.io/preprocessing/text/#tokenizer) function. Use this function to tokenize `english_sentences` and `french_sentences` in the cell below.\n",
    "\n",
    "Running the cell will run `tokenize` on sample data and show output for debugging."
   ]
  },
  {
   "cell_type": "code",
   "execution_count": 4,
   "metadata": {},
   "outputs": [
    {
     "name": "stderr",
     "output_type": "stream",
     "text": [
      "Using TensorFlow backend.\n"
     ]
    },
    {
     "name": "stdout",
     "output_type": "stream",
     "text": [
      "{'the': 1, 'quick': 2, 'a': 3, 'brown': 4, 'fox': 5, 'jumps': 6, 'over': 7, 'lazy': 8, 'dog': 9, 'by': 10, 'jove': 11, 'my': 12, 'study': 13, 'of': 14, 'lexicography': 15, 'won': 16, 'prize': 17, 'this': 18, 'is': 19, 'short': 20, 'sentence': 21}\n",
      "\n",
      "Sequence 1 in x\n",
      "  Input:  The quick brown fox jumps over the lazy dog .\n",
      "  Output: [1, 2, 4, 5, 6, 7, 1, 8, 9]\n",
      "Sequence 2 in x\n",
      "  Input:  By Jove , my quick study of lexicography won a prize .\n",
      "  Output: [10, 11, 12, 2, 13, 14, 15, 16, 3, 17]\n",
      "Sequence 3 in x\n",
      "  Input:  This is a short sentence .\n",
      "  Output: [18, 19, 3, 20, 21]\n"
     ]
    }
   ],
   "source": [
    "import project_tests as tests\n",
    "from keras.preprocessing.text import Tokenizer\n",
    "\n",
    "\n",
    "def tokenize(x):\n",
    "    \"\"\"\n",
    "    Tokenize x\n",
    "    :param x: List of sentences/strings to be tokenized\n",
    "    :return: Tuple of (tokenized x data, tokenizer used to tokenize x)\n",
    "    \"\"\"\n",
    "    tokenizer = Tokenizer()\n",
    "    tokenizer.fit_on_texts(x)\n",
    "    return tokenizer.texts_to_sequences(x), tokenizer\n",
    "tests.test_tokenize(tokenize)\n",
    "\n",
    "# Tokenize Example output\n",
    "text_sentences = [\n",
    "    'The quick brown fox jumps over the lazy dog .',\n",
    "    'By Jove , my quick study of lexicography won a prize .',\n",
    "    'This is a short sentence .']\n",
    "text_tokenized, text_tokenizer = tokenize(text_sentences)\n",
    "print(text_tokenizer.word_index)\n",
    "print()\n",
    "for sample_i, (sent, token_sent) in enumerate(zip(text_sentences, text_tokenized)):\n",
    "    print('Sequence {} in x'.format(sample_i + 1))\n",
    "    print('  Input:  {}'.format(sent))\n",
    "    print('  Output: {}'.format(token_sent))"
   ]
  },
  {
   "cell_type": "code",
   "execution_count": 5,
   "metadata": {},
   "outputs": [
    {
     "name": "stdout",
     "output_type": "stream",
     "text": [
      "{'is': 1, 'in': 2, 'it': 3, 'during': 4, 'the': 5, 'but': 6, 'and': 7, 'sometimes': 8, 'usually': 9, 'never': 10, 'favorite': 11, 'least': 12, 'fruit': 13, 'most': 14, 'loved': 15, 'liked': 16, 'new': 17, 'paris': 18, 'india': 19, 'united': 20, 'states': 21, 'california': 22, 'jersey': 23, 'france': 24, 'china': 25, 'he': 26, 'she': 27, 'grapefruit': 28, 'your': 29, 'my': 30, 'his': 31, 'her': 32, 'fall': 33, 'june': 34, 'spring': 35, 'january': 36, 'winter': 37, 'march': 38, 'autumn': 39, 'may': 40, 'nice': 41, 'september': 42, 'july': 43, 'april': 44, 'november': 45, 'summer': 46, 'december': 47, 'february': 48, 'our': 49, 'their': 50, 'freezing': 51, 'pleasant': 52, 'beautiful': 53, 'october': 54, 'snowy': 55, 'warm': 56, 'cold': 57, 'wonderful': 58, 'dry': 59, 'busy': 60, 'august': 61, 'chilly': 62, 'rainy': 63, 'mild': 64, 'wet': 65, 'relaxing': 66, 'quiet': 67, 'hot': 68, 'dislikes': 69, 'likes': 70, 'limes': 71, 'lemons': 72, 'grapes': 73, 'mangoes': 74, 'apples': 75, 'peaches': 76, 'oranges': 77, 'pears': 78, 'strawberries': 79, 'bananas': 80, 'to': 81, 'grape': 82, 'apple': 83, 'orange': 84, 'lemon': 85, 'lime': 86, 'banana': 87, 'mango': 88, 'pear': 89, 'strawberry': 90, 'peach': 91, 'like': 92, 'dislike': 93, 'they': 94, 'that': 95, 'i': 96, 'we': 97, 'you': 98, 'animal': 99, 'a': 100, 'truck': 101, 'car': 102, 'automobile': 103, 'was': 104, 'next': 105, 'go': 106, 'driving': 107, 'visit': 108, 'little': 109, 'big': 110, 'old': 111, 'yellow': 112, 'red': 113, 'rusty': 114, 'blue': 115, 'white': 116, 'black': 117, 'green': 118, 'shiny': 119, 'are': 120, 'last': 121, 'feared': 122, 'animals': 123, 'this': 124, 'plan': 125, 'going': 126, 'saw': 127, 'disliked': 128, 'drives': 129, 'drove': 130, 'between': 131, 'translate': 132, 'plans': 133, 'were': 134, 'went': 135, 'might': 136, 'wanted': 137, 'thinks': 138, 'spanish': 139, 'portuguese': 140, 'chinese': 141, 'english': 142, 'french': 143, 'translating': 144, 'difficult': 145, 'fun': 146, 'easy': 147, 'wants': 148, 'think': 149, 'why': 150, \"it's\": 151, 'did': 152, 'cat': 153, 'shark': 154, 'bird': 155, 'mouse': 156, 'horse': 157, 'elephant': 158, 'dog': 159, 'monkey': 160, 'lion': 161, 'bear': 162, 'rabbit': 163, 'snake': 164, 'when': 165, 'want': 166, 'do': 167, 'how': 168, 'elephants': 169, 'horses': 170, 'dogs': 171, 'sharks': 172, 'snakes': 173, 'cats': 174, 'rabbits': 175, 'monkeys': 176, 'bears': 177, 'birds': 178, 'lions': 179, 'mice': 180, \"didn't\": 181, 'eiffel': 182, 'tower': 183, 'grocery': 184, 'store': 185, 'football': 186, 'field': 187, 'lake': 188, 'school': 189, 'would': 190, \"aren't\": 191, 'been': 192, 'weather': 193, 'does': 194, 'has': 195, \"isn't\": 196, 'am': 197, 'where': 198, 'have': 199}\n"
     ]
    }
   ],
   "source": [
    "# Tokenize English sentences\n",
    "english_tokenized, english_tokenizer = tokenize(english_sentences)\n",
    "print(english_tokenizer.word_index)"
   ]
  },
  {
   "cell_type": "code",
   "execution_count": 6,
   "metadata": {},
   "outputs": [
    {
     "name": "stdout",
     "output_type": "stream",
     "text": [
      "{'est': 1, 'en': 2, 'il': 3, 'les': 4, 'mais': 5, 'et': 6, 'la': 7, 'parfois': 8, 'jamais': 9, 'le': 10, \"l'\": 11, 'généralement': 12, 'moins': 13, 'aimé': 14, 'au': 15, 'fruit': 16, 'préféré': 17, 'agréable': 18, 'froid': 19, 'son': 20, 'chaud': 21, 'de': 22, 'plus': 23, 'automne': 24, 'mois': 25, 'à': 26, 'elle': 27, 'citrons': 28, 'paris': 29, 'inde': 30, 'unis': 31, 'états': 32, 'france': 33, 'jersey': 34, 'new': 35, 'chine': 36, 'pendant': 37, 'pamplemousse': 38, 'mon': 39, 'votre': 40, 'juin': 41, 'printemps': 42, 'janvier': 43, 'hiver': 44, 'mars': 45, 'été': 46, 'mai': 47, 'septembre': 48, 'juillet': 49, 'avril': 50, 'novembre': 51, 'décembre': 52, 'février': 53, 'octobre': 54, 'aime': 55, 'août': 56, 'merveilleux': 57, 'relaxant': 58, 'doux': 59, 'humide': 60, 'notre': 61, 'californie': 62, 'sec': 63, 'leur': 64, 'occupé': 65, 'pluvieux': 66, 'calme': 67, 'beau': 68, 'habituellement': 69, 'pommes': 70, 'pêches': 71, 'oranges': 72, 'poires': 73, 'fraises': 74, 'bananes': 75, 'verts': 76, 'raisins': 77, 'mangues': 78, \"d'\": 79, 'mangue': 80, 'gel': 81, 'raisin': 82, 'pomme': 83, \"l'orange\": 84, 'citron': 85, 'chaux': 86, 'banane': 87, 'poire': 88, 'fraise': 89, 'pêche': 90, 'pas': 91, 'enneigée': 92, 'favori': 93, 'déteste': 94, 'gèle': 95, 'fruits': 96, 'voiture': 97, \"l'automne\": 98, 'ils': 99, \"n'aime\": 100, 'california': 101, 'neige': 102, 'fait': 103, 'belle': 104, 'ne': 105, 'vous': 106, 'nous': 107, 'des': 108, 'animal': 109, 'camion': 110, 'cours': 111, 'neigeux': 112, 'conduit': 113, 'prochain': 114, 'ce': 115, 'je': 116, 'tranquille': 117, 'a': 118, 'cher': 119, 'une': 120, 'cette': 121, 'était': 122, 'aller': 123, 'aiment': 124, 'chaude': 125, 'aimons': 126, \"n'aiment\": 127, \"n'aimez\": 128, 'leurs': 129, 'aimez': 130, 'sont': 131, 'détestons': 132, 'jaune': 133, 'rouge': 134, \"j'aime\": 135, 'visiter': 136, 'sèche': 137, 'occupée': 138, 'frisquet': 139, 'préférée': 140, 'animaux': 141, 'dernier': 142, 'aimait': 143, 'un': 144, 'conduisait': 145, 'que': 146, 'nouvelle': 147, 'vieille': 148, 'vu': 149, 'verte': 150, 'petite': 151, 'nos': 152, 'noire': 153, 'brillant': 154, 'blanche': 155, 'redouté': 156, 'pleut': 157, \"n'aimait\": 158, 'pamplemousses': 159, 'pense': 160, 'entre': 161, 'bleue': 162, 'nouveau': 163, 'traduire': 164, 'rouillée': 165, 'bleu': 166, 'se': 167, 'grande': 168, 'rouillé': 169, 'ses': 170, \"qu'il\": 171, 'blanc': 172, 'aux': 173, 'brillante': 174, 'préférés': 175, 'noir': 176, 'pluies': 177, 'envisage': 178, 'étaient': 179, 'va': 180, 'rendre': 181, 'vert': 182, 'vieux': 183, 'petit': 184, 'espagnol': 185, 'portugais': 186, 'chinois': 187, 'anglais': 188, 'français': 189, 'glaciales': 190, 'mes': 191, 'cet': 192, 'automobile': 193, 'traduction': 194, 'mouillé': 195, 'difficile': 196, 'amusant': 197, 'facile': 198, 'comme': 199, 'gros': 200, 'souris': 201, 'pourrait': 202, 'voulait': 203, 'veut': 204, 'pourquoi': 205, 'aimés': 206, 'prévois': 207, 'prévoyons': 208, 'vos': 209, 'intention': 210, 'clémentes': 211, 'ont': 212, 'chat': 213, 'requin': 214, 'cheval': 215, 'chien': 216, 'singe': 217, 'lion': 218, 'ours': 219, 'lapin': 220, 'serpent': 221, 'redoutés': 222, 'allé': 223, 'grosse': 224, 'pluie': 225, 'trop': 226, 'monde': 227, 'maillot': 228, 'vont': 229, 'volant': 230, 'avez': 231, 'i': 232, 'allés': 233, 'allée': 234, 'quand': 235, 'oiseau': 236, 'éléphant': 237, 'pourraient': 238, 'voulaient': 239, 'veulent': 240, 'détendre': 241, 'aimée': 242, 'magnifique': 243, \"l'automobile\": 244, \"n'aimons\": 245, 'gelé': 246, 'détestait': 247, 'grand': 248, 'bien': 249, 'vers': 250, 'prévoient': 251, 'prévoit': 252, 'lui': 253, 'visite': 254, 'comment': 255, 'éléphants': 256, 'chevaux': 257, 'chiens': 258, \"l'éléphant\": 259, \"l'oiseau\": 260, 'requins': 261, \"l'ours\": 262, 'serpents': 263, 'chats': 264, 'lapins': 265, 'singes': 266, 'oiseaux': 267, 'lions': 268, 'légère': 269, 'cépage': 270, 'pensez': 271, 'tour': 272, 'eiffel': 273, \"l'épicerie\": 274, 'terrain': 275, 'football': 276, 'lac': 277, \"l'école\": 278, \"l'animal\": 279, \"n'est\": 280, 'allons': 281, 'allez': 282, 'peu': 283, 'pousse': 284, 'du': 285, 'temps': 286, 'at': 287, 'rouille': 288, 'sur': 289, \"qu'elle\": 290, 'petites': 291, 'dernière': 292, 'êtes': 293, 'vais': 294, 'voudrait': 295, 'proches': 296, 'frais': 297, 'manguiers': 298, 'avons': 299, 't': 300, 'porcelaine': 301, 'détestez': 302, \"c'est\": 303, 'grandes': 304, 'préférées': 305, 'douce': 306, 'durant': 307, 'congélation': 308, 'plaît': 309, 'où': 310, 'dans': 311, 'voulez': 312, 'aimeraient': 313, \"n'a\": 314, 'petits': 315, 'grands': 316, 'limes': 317, 'envisagent': 318, 'grosses': 319, 'bénigne': 320, 'mouillée': 321, 'enneigé': 322, 'moindres': 323, 'conduite': 324, 'gelés': 325, 'tout': 326, 'etats': 327, \"n'êtes\": 328, 'vit': 329, 'ressort': 330, 'détend': 331, 'redoutée': 332, 'tu': 333, 'qui': 334, 'traduis': 335, 'apprécié': 336, 'allions': 337, 'trouvé': 338, 'as': 339, 'faire': 340, 'favoris': 341, 'souvent': 342, 'es': 343, 'moteur': 344}\n"
     ]
    }
   ],
   "source": [
    "# Tokenize French sentences\n",
    "french_tokenized, french_tokenizer = tokenize(french_sentences)\n",
    "print(french_tokenizer.word_index)"
   ]
  },
  {
   "cell_type": "markdown",
   "metadata": {},
   "source": [
    "### Padding (IMPLEMENTATION)\n",
    "When batching the sequence of word ids together, each sequence needs to be the same length.  Since sentences are dynamic in length, we can add padding to the end of the sequences to make them the same length.\n",
    "\n",
    "Make sure all the English sequences have the same length and all the French sequences have the same length by adding padding to the **end** of each sequence using Keras's [`pad_sequences`](https://keras.io/preprocessing/sequence/#pad_sequences) function."
   ]
  },
  {
   "cell_type": "code",
   "execution_count": 7,
   "metadata": {},
   "outputs": [
    {
     "name": "stdout",
     "output_type": "stream",
     "text": [
      "Sequence 1 in x\n",
      "  Input:  [1 2 4 5 6 7 1 8 9]\n",
      "  Output: [1 2 4 5 6 7 1 8 9 0]\n",
      "Sequence 2 in x\n",
      "  Input:  [10 11 12  2 13 14 15 16  3 17]\n",
      "  Output: [10 11 12  2 13 14 15 16  3 17]\n",
      "Sequence 3 in x\n",
      "  Input:  [18 19  3 20 21]\n",
      "  Output: [18 19  3 20 21  0  0  0  0  0]\n"
     ]
    }
   ],
   "source": [
    "import numpy as np\n",
    "from keras.preprocessing.sequence import pad_sequences\n",
    "\n",
    "\n",
    "def pad(x, length=None):\n",
    "    \"\"\"\n",
    "    Pad x\n",
    "    :param x: List of sequences.\n",
    "    :param length: Length to pad the sequence to.  If None, use length of longest sequence in x.\n",
    "    :return: Padded numpy array of sequences\n",
    "    \"\"\"\n",
    "    if length is None:\n",
    "        length = max(len(sequence) for sequence in x)\n",
    "    return pad_sequences(sequences=x, maxlen=length, padding='post')\n",
    "tests.test_pad(pad)\n",
    "\n",
    "# Pad Tokenized output\n",
    "test_pad = pad(text_tokenized)\n",
    "for sample_i, (token_sent, pad_sent) in enumerate(zip(text_tokenized, test_pad)):\n",
    "    print('Sequence {} in x'.format(sample_i + 1))\n",
    "    print('  Input:  {}'.format(np.array(token_sent)))\n",
    "    print('  Output: {}'.format(pad_sent))"
   ]
  },
  {
   "cell_type": "code",
   "execution_count": 8,
   "metadata": {
    "collapsed": true
   },
   "outputs": [],
   "source": [
    "# Pad tokenized English sentences\n",
    "english_tokenized_pad = pad(english_tokenized)"
   ]
  },
  {
   "cell_type": "code",
   "execution_count": 9,
   "metadata": {
    "collapsed": true
   },
   "outputs": [],
   "source": [
    "# Pad tokenized French sentences\n",
    "french_tokenized_pad = pad(french_tokenized)"
   ]
  },
  {
   "cell_type": "markdown",
   "metadata": {},
   "source": [
    "### Preprocess Pipeline\n",
    "Your focus for this project is to build neural network architecture, so we won't ask you to create a preprocess pipeline.  Instead, we've provided you with the implementation of the `preprocess` function."
   ]
  },
  {
   "cell_type": "code",
   "execution_count": 10,
   "metadata": {},
   "outputs": [
    {
     "name": "stdout",
     "output_type": "stream",
     "text": [
      "Data Preprocessed\n"
     ]
    }
   ],
   "source": [
    "def preprocess(x, y):\n",
    "    \"\"\"\n",
    "    Preprocess x and y\n",
    "    :param x: Feature List of sentences\n",
    "    :param y: Label List of sentences\n",
    "    :return: Tuple of (Preprocessed x, Preprocessed y, x tokenizer, y tokenizer)\n",
    "    \"\"\"\n",
    "    preprocess_x, x_tk = tokenize(x)\n",
    "    preprocess_y, y_tk = tokenize(y)\n",
    "\n",
    "    preprocess_x = pad(preprocess_x)\n",
    "    preprocess_y = pad(preprocess_y)\n",
    "\n",
    "    # Keras's sparse_categorical_crossentropy function requires the labels to be in 3 dimensions\n",
    "    preprocess_y = preprocess_y.reshape(*preprocess_y.shape, 1)\n",
    "\n",
    "    return preprocess_x, preprocess_y, x_tk, y_tk\n",
    "\n",
    "preproc_english_sentences, preproc_french_sentences, english_tokenizer, french_tokenizer =\\\n",
    "    preprocess(english_sentences, french_sentences)\n",
    "\n",
    "print('Data Preprocessed')"
   ]
  },
  {
   "cell_type": "markdown",
   "metadata": {},
   "source": [
    "## Models\n",
    "In this section, you will experiment with various neural network architectures.\n",
    "You will begin by training four relatively simple architectures.\n",
    "- Model 1 is a simple RNN\n",
    "- Model 2 is a RNN with Embedding\n",
    "- Model 3 is a Bidirectional RNN\n",
    "- Model 4 is an optional Encoder-Decoder RNN\n",
    "\n",
    "After experimenting with the four simple architectures, you will construct a deeper architecture that is designed to outperform all four models.\n",
    "### Ids Back to Text\n",
    "The neural network will be translating the input to words ids, which isn't the final form we want.  We want the French translation.  The function `logits_to_text` will bridge the gap between the logits from the neural network to the French translation.  You'll be using this function to better understand the output of the neural network."
   ]
  },
  {
   "cell_type": "code",
   "execution_count": 11,
   "metadata": {},
   "outputs": [
    {
     "name": "stdout",
     "output_type": "stream",
     "text": [
      "`logits_to_text` function loaded.\n"
     ]
    }
   ],
   "source": [
    "def logits_to_text(logits, tokenizer):\n",
    "    \"\"\"\n",
    "    Turn logits from a neural network into text using the tokenizer\n",
    "    :param logits: Logits from a neural network\n",
    "    :param tokenizer: Keras Tokenizer fit on the labels\n",
    "    :return: String that represents the text of the logits\n",
    "    \"\"\"\n",
    "    index_to_words = {id: word for word, id in tokenizer.word_index.items()}\n",
    "    index_to_words[0] = '<PAD>'\n",
    "\n",
    "    return ' '.join([index_to_words[prediction] for prediction in np.argmax(logits, 1)])\n",
    "\n",
    "print('`logits_to_text` function loaded.')"
   ]
  },
  {
   "cell_type": "markdown",
   "metadata": {},
   "source": [
    "### Model 1: RNN (IMPLEMENTATION)\n",
    "![RNN](images/rnn.png)\n",
    "A basic RNN model is a good baseline for sequence data.  In this model, you'll build a RNN that translates English to French."
   ]
  },
  {
   "cell_type": "code",
   "execution_count": 16,
   "metadata": {},
   "outputs": [
    {
     "name": "stdout",
     "output_type": "stream",
     "text": [
      "Train on 110288 samples, validate on 27573 samples\n",
      "Epoch 1/10\n",
      "110288/110288 [==============================] - 515s - loss: 2.0696 - acc: 0.5288 - val_loss: 1.3773 - val_acc: 0.6280\n",
      "Epoch 2/10\n",
      "110288/110288 [==============================] - 516s - loss: 1.2572 - acc: 0.6469 - val_loss: 1.1922 - val_acc: 0.6577\n",
      "Epoch 3/10\n",
      "110288/110288 [==============================] - 516s - loss: 1.1202 - acc: 0.6700 - val_loss: 1.0776 - val_acc: 0.6736\n",
      "Epoch 4/10\n",
      "110288/110288 [==============================] - 516s - loss: 1.0293 - acc: 0.6854 - val_loss: 0.9868 - val_acc: 0.6964\n",
      "Epoch 5/10\n",
      "110288/110288 [==============================] - 518s - loss: 0.9981 - acc: 0.6906 - val_loss: 0.9467 - val_acc: 0.7000\n",
      "Epoch 6/10\n",
      "110288/110288 [==============================] - 517s - loss: 0.9678 - acc: 0.6955 - val_loss: 0.9725 - val_acc: 0.6919\n",
      "Epoch 7/10\n",
      "110288/110288 [==============================] - 516s - loss: 0.9165 - acc: 0.7072 - val_loss: 0.8903 - val_acc: 0.7075\n",
      "Epoch 8/10\n",
      "110288/110288 [==============================] - 517s - loss: 0.8918 - acc: 0.7129 - val_loss: 0.8748 - val_acc: 0.7202\n",
      "Epoch 9/10\n",
      "110288/110288 [==============================] - 517s - loss: 0.8708 - acc: 0.7196 - val_loss: 0.8492 - val_acc: 0.7221\n",
      "Epoch 10/10\n",
      "110288/110288 [==============================] - 517s - loss: 0.8462 - acc: 0.7257 - val_loss: 0.7907 - val_acc: 0.7438\n",
      "new jersey est parfois calme en l' et il il il en juillet en <PAD> <PAD> <PAD> <PAD> <PAD> <PAD> <PAD>\n"
     ]
    }
   ],
   "source": [
    "from keras.layers import GRU, Input, Dense, TimeDistributed\n",
    "from keras.models import Model, Sequential\n",
    "from keras.layers import Activation, LSTM\n",
    "from keras.optimizers import Adam\n",
    "from keras.losses import sparse_categorical_crossentropy\n",
    "\n",
    "\n",
    "def simple_model(input_shape, output_sequence_length, english_vocab_size, french_vocab_size):\n",
    "    \"\"\"\n",
    "    Build and train a basic RNN on x and y\n",
    "    :param input_shape: Tuple of input shape\n",
    "    :param output_sequence_length: Length of output sequence\n",
    "    :param english_vocab_size: Number of unique English words in the dataset\n",
    "    :param french_vocab_size: Number of unique French words in the dataset\n",
    "    :return: Keras model built, but not trained\n",
    "    \"\"\"\n",
    "    # Build the layers\n",
    "    learning_rate=0.01\n",
    "    model = Sequential()\n",
    "    model.add(GRU(512, input_shape=input_shape[1:], return_sequences=True))\n",
    "    model.add(GRU(256, return_sequences=True))\n",
    "    model.add(Dense(french_vocab_size))\n",
    "    model.add(Activation('softmax'))\n",
    "    \n",
    "    model.compile(loss=sparse_categorical_crossentropy,\n",
    "                  optimizer=Adam(learning_rate),\n",
    "                  metrics=['accuracy'])\n",
    "    \n",
    "    return model\n",
    "tests.test_simple_model(simple_model)\n",
    "\n",
    "\n",
    "# Reshaping the input to work with a basic RNN\n",
    "tmp_x = pad(preproc_english_sentences, preproc_french_sentences.shape[1])\n",
    "tmp_x = tmp_x.reshape((-1, preproc_french_sentences.shape[-2], 1))\n",
    "\n",
    "# Train the neural network\n",
    "simple_rnn_model = simple_model(\n",
    "    tmp_x.shape,\n",
    "    preproc_french_sentences.shape[1],\n",
    "    len(english_tokenizer.word_index)+1,\n",
    "    len(french_tokenizer.word_index)+1)\n",
    "simple_rnn_model.fit(tmp_x, preproc_french_sentences, batch_size=1024, epochs=10, validation_split=0.2)\n",
    "\n",
    "# Print prediction(s)\n",
    "print(logits_to_text(simple_rnn_model.predict(tmp_x[:1])[0], french_tokenizer))"
   ]
  },
  {
   "cell_type": "markdown",
   "metadata": {},
   "source": [
    "### Model 2: Embedding (IMPLEMENTATION)\n",
    "![RNN](images/embedding.png)\n",
    "You've turned the words into ids, but there's a better representation of a word.  This is called word embeddings.  An embedding is a vector representation of the word that is close to similar words in n-dimensional space, where the n represents the size of the embedding vectors.\n",
    "\n",
    "In this model, you'll create a RNN model using embedding."
   ]
  },
  {
   "cell_type": "code",
   "execution_count": 18,
   "metadata": {},
   "outputs": [
    {
     "name": "stdout",
     "output_type": "stream",
     "text": [
      "Train on 110288 samples, validate on 27573 samples\n",
      "Epoch 1/10\n",
      "110288/110288 [==============================] - 652s - loss: 2.1849 - acc: 0.5268 - val_loss: 1.3980 - val_acc: 0.6411\n",
      "Epoch 2/10\n",
      "110288/110288 [==============================] - 651s - loss: 1.1941 - acc: 0.6787 - val_loss: 0.9925 - val_acc: 0.7216\n",
      "Epoch 3/10\n",
      "110288/110288 [==============================] - 654s - loss: 0.8568 - acc: 0.7566 - val_loss: 0.7264 - val_acc: 0.7909\n",
      "Epoch 4/10\n",
      "110288/110288 [==============================] - 657s - loss: 0.6208 - acc: 0.8197 - val_loss: 0.5210 - val_acc: 0.8496\n",
      "Epoch 5/10\n",
      "110288/110288 [==============================] - 655s - loss: 0.4639 - acc: 0.8631 - val_loss: 0.4152 - val_acc: 0.8776\n",
      "Epoch 6/10\n",
      "110288/110288 [==============================] - 653s - loss: 0.3916 - acc: 0.8825 - val_loss: 0.3721 - val_acc: 0.8891\n",
      "Epoch 7/10\n",
      "110288/110288 [==============================] - 653s - loss: 0.3465 - acc: 0.8941 - val_loss: 0.3469 - val_acc: 0.8945\n",
      "Epoch 8/10\n",
      "110288/110288 [==============================] - 653s - loss: 0.3213 - acc: 0.8998 - val_loss: 0.3047 - val_acc: 0.9037\n",
      "Epoch 9/10\n",
      "110288/110288 [==============================] - 653s - loss: 0.3029 - acc: 0.9044 - val_loss: 0.3018 - val_acc: 0.9043\n",
      "Epoch 10/10\n",
      "110288/110288 [==============================] - 654s - loss: 0.3028 - acc: 0.9033 - val_loss: 0.3054 - val_acc: 0.9031\n",
      "new jersey est parfois calme en l'automne automne et est est neigeux en <PAD> avril <PAD> <PAD> <PAD> <PAD> <PAD> <PAD>\n"
     ]
    }
   ],
   "source": [
    "from keras.layers.embeddings import Embedding\n",
    "\n",
    "\n",
    "def embed_model(input_shape, output_sequence_length, english_vocab_size, french_vocab_size):\n",
    "    \"\"\"\n",
    "    Build and train a RNN model using word embedding on x and y\n",
    "    :param input_shape: Tuple of input shape\n",
    "    :param output_sequence_length: Length of output sequence\n",
    "    :param english_vocab_size: Number of unique English words in the dataset\n",
    "    :param french_vocab_size: Number of unique French words in the dataset\n",
    "    :return: Keras model built, but not trained\n",
    "    \"\"\"\n",
    "    learning_rate=0.01\n",
    "    model = Sequential()\n",
    "    model.add(Embedding(english_vocab_size, 512, input_length=input_shape[1]))\n",
    "    model.add(GRU(512, return_sequences=True))\n",
    "    model.add(GRU(256, return_sequences=True))\n",
    "    model.add(Dense(french_vocab_size))\n",
    "    model.add(Activation('softmax'))\n",
    "    \n",
    "    model.compile(loss=sparse_categorical_crossentropy,\n",
    "                  optimizer=Adam(learning_rate),\n",
    "                  metrics=['accuracy'])\n",
    "    \n",
    "    return model\n",
    "tests.test_embed_model(embed_model)\n",
    "\n",
    "# Reshaping the input to work with model\n",
    "tmp_x = pad(preproc_english_sentences, preproc_french_sentences.shape[1])\n",
    "\n",
    "# Train the neural network\n",
    "embed_rnn_model = embed_model(\n",
    "    tmp_x.shape,\n",
    "    preproc_french_sentences.shape[1],\n",
    "    len(english_tokenizer.word_index)+1,\n",
    "    len(french_tokenizer.word_index)+1)\n",
    "embed_rnn_model.fit(tmp_x, preproc_french_sentences, batch_size=1024, epochs=10, validation_split=0.2)\n",
    "\n",
    "# Print prediction(s)\n",
    "print(logits_to_text(embed_rnn_model.predict(tmp_x[:1])[0], french_tokenizer))"
   ]
  },
  {
   "cell_type": "markdown",
   "metadata": {},
   "source": [
    "### Model 3: Bidirectional RNNs (IMPLEMENTATION)\n",
    "![RNN](images/bidirectional.png)\n",
    "One restriction of a RNN is that it can't see the future input, only the past.  This is where bidirectional recurrent neural networks come in.  They are able to see the future data."
   ]
  },
  {
   "cell_type": "code",
   "execution_count": 12,
   "metadata": {},
   "outputs": [
    {
     "name": "stdout",
     "output_type": "stream",
     "text": [
      "Train on 110288 samples, validate on 27573 samples\n",
      "Epoch 1/10\n",
      "110288/110288 [==============================] - 71s - loss: 2.0796 - acc: 0.5450 - val_loss: 1.2313 - val_acc: 0.6523\n",
      "Epoch 2/10\n",
      "110288/110288 [==============================] - 69s - loss: 1.0994 - acc: 0.6705 - val_loss: 1.0088 - val_acc: 0.6877\n",
      "Epoch 3/10\n",
      "110288/110288 [==============================] - 69s - loss: 0.9498 - acc: 0.6989 - val_loss: 0.8499 - val_acc: 0.7266\n",
      "Epoch 4/10\n",
      "110288/110288 [==============================] - 69s - loss: 0.8798 - acc: 0.7124 - val_loss: 0.8574 - val_acc: 0.7243\n",
      "Epoch 5/10\n",
      "110288/110288 [==============================] - 69s - loss: 0.8155 - acc: 0.7257 - val_loss: 0.7251 - val_acc: 0.7550\n",
      "Epoch 6/10\n",
      "110288/110288 [==============================] - 69s - loss: 0.7336 - acc: 0.7483 - val_loss: 0.6743 - val_acc: 0.7714\n",
      "Epoch 7/10\n",
      "110288/110288 [==============================] - 69s - loss: 0.6958 - acc: 0.7587 - val_loss: 0.6495 - val_acc: 0.7717\n",
      "Epoch 8/10\n",
      "110288/110288 [==============================] - 69s - loss: 0.7219 - acc: 0.7475 - val_loss: 0.7509 - val_acc: 0.7255\n",
      "Epoch 9/10\n",
      "110288/110288 [==============================] - 69s - loss: 0.7266 - acc: 0.7362 - val_loss: 0.6954 - val_acc: 0.7410\n",
      "Epoch 10/10\n",
      "110288/110288 [==============================] - 69s - loss: 0.7130 - acc: 0.7450 - val_loss: 0.7400 - val_acc: 0.7336\n",
      "new jersey est parfois chaud au mois de mai et il est chaud en <PAD> <PAD> <PAD> <PAD> <PAD> <PAD> <PAD>\n"
     ]
    }
   ],
   "source": [
    "from keras.layers import GRU, Input, Dense, TimeDistributed\n",
    "from keras.models import Model, Sequential\n",
    "from keras.layers import Activation, LSTM\n",
    "from keras.optimizers import Adam\n",
    "from keras.losses import sparse_categorical_crossentropy\n",
    "from keras.layers import Bidirectional\n",
    "\n",
    "\n",
    "def bd_model(input_shape, output_sequence_length, english_vocab_size, french_vocab_size):\n",
    "    \"\"\"\n",
    "    Build and train a bidirectional RNN model on x and y\n",
    "    :param input_shape: Tuple of input shape\n",
    "    :param output_sequence_length: Length of output sequence\n",
    "    :param english_vocab_size: Number of unique English words in the dataset\n",
    "    :param french_vocab_size: Number of unique French words in the dataset\n",
    "    :return: Keras model built, but not trained\n",
    "    \"\"\"\n",
    "    # Build the layers\n",
    "    learning_rate=0.01\n",
    "    model = Sequential()\n",
    "    model.add(GRU(512, input_shape=input_shape[1:], return_sequences=True))\n",
    "    model.add(Bidirectional(GRU(256, return_sequences=True)))\n",
    "    model.add(Dense(french_vocab_size))\n",
    "    model.add(Activation('softmax'))\n",
    "    \n",
    "    model.compile(loss=sparse_categorical_crossentropy,\n",
    "                  optimizer=Adam(learning_rate),\n",
    "                  metrics=['accuracy'])\n",
    "    \n",
    "    return model\n",
    "tests.test_bd_model(bd_model)\n",
    "\n",
    "# Reshaping the input to work with model\n",
    "tmp_x = pad(preproc_english_sentences, preproc_french_sentences.shape[1])\n",
    "tmp_x = tmp_x.reshape((-1, preproc_french_sentences.shape[-2], 1))\n",
    "\n",
    "# Train the neural network\n",
    "bd_rnn_model = bd_model(\n",
    "    tmp_x.shape,\n",
    "    preproc_french_sentences.shape[1],\n",
    "    len(english_tokenizer.word_index)+1,\n",
    "    len(french_tokenizer.word_index)+1)\n",
    "bd_rnn_model.fit(tmp_x, preproc_french_sentences, batch_size=1024, epochs=10, validation_split=0.2)\n",
    "\n",
    "# Print prediction(s)\n",
    "print(logits_to_text(bd_rnn_model.predict(tmp_x[:1])[0], french_tokenizer))"
   ]
  },
  {
   "cell_type": "markdown",
   "metadata": {},
   "source": [
    "### Model 4: Encoder-Decoder (OPTIONAL)\n",
    "Time to look at encoder-decoder models.  This model is made up of an encoder and decoder. The encoder creates a matrix representation of the sentence.  The decoder takes this matrix as input and predicts the translation as output.\n",
    "\n",
    "Create an encoder-decoder model in the cell below."
   ]
  },
  {
   "cell_type": "code",
   "execution_count": 20,
   "metadata": {},
   "outputs": [
    {
     "name": "stdout",
     "output_type": "stream",
     "text": [
      "Train on 110288 samples, validate on 27573 samples\n",
      "Epoch 1/10\n",
      "110288/110288 [==============================] - 50s - loss: 3.1158 - acc: 0.4033 - val_loss: 2.7621 - val_acc: 0.4272\n",
      "Epoch 2/10\n",
      "110288/110288 [==============================] - 49s - loss: 2.7370 - acc: 0.4234 - val_loss: 2.5768 - val_acc: 0.4343\n",
      "Epoch 3/10\n",
      "110288/110288 [==============================] - 49s - loss: 2.5360 - acc: 0.4375 - val_loss: 2.4897 - val_acc: 0.4413\n",
      "Epoch 4/10\n",
      "110288/110288 [==============================] - 49s - loss: 2.5833 - acc: 0.4346 - val_loss: 2.5268 - val_acc: 0.4400\n",
      "Epoch 5/10\n",
      "110288/110288 [==============================] - 49s - loss: 2.5114 - acc: 0.4425 - val_loss: 2.4958 - val_acc: 0.4447\n",
      "Epoch 6/10\n",
      "110288/110288 [==============================] - 49s - loss: 2.4858 - acc: 0.4441 - val_loss: 2.4950 - val_acc: 0.4490\n",
      "Epoch 7/10\n",
      "110288/110288 [==============================] - 49s - loss: 2.4567 - acc: 0.4507 - val_loss: 2.4488 - val_acc: 0.4519\n",
      "Epoch 8/10\n",
      "110288/110288 [==============================] - 49s - loss: 2.4367 - acc: 0.4549 - val_loss: 2.4188 - val_acc: 0.4542\n",
      "Epoch 9/10\n",
      "110288/110288 [==============================] - 49s - loss: 2.5489 - acc: 0.4360 - val_loss: 2.4784 - val_acc: 0.4437\n",
      "Epoch 10/10\n",
      "110288/110288 [==============================] - 49s - loss: 2.4599 - acc: 0.4455 - val_loss: 2.4423 - val_acc: 0.4482\n",
      "new jersey <PAD> <PAD> <PAD> <PAD> <PAD> <PAD> <PAD> <PAD> <PAD> <PAD> <PAD> <PAD> <PAD> <PAD> <PAD> <PAD> <PAD> <PAD> <PAD>\n"
     ]
    }
   ],
   "source": [
    "from keras.layers import RepeatVector\n",
    "\n",
    "\n",
    "def encdec_model(input_shape, output_sequence_length, english_vocab_size, french_vocab_size):\n",
    "    \"\"\"\n",
    "    Build and train an encoder-decoder model on x and y\n",
    "    :param input_shape: Tuple of input shape\n",
    "    :param output_sequence_length: Length of output sequence\n",
    "    :param english_vocab_size: Number of unique English words in the dataset\n",
    "    :param french_vocab_size: Number of unique French words in the dataset\n",
    "    :return: Keras model built, but not trained\n",
    "    \"\"\"\n",
    "    learning_rate = 0.01\n",
    "    model = Sequential()\n",
    "    model.add(GRU(512, input_shape=input_shape[1:], return_sequences=False))\n",
    "    model.add(RepeatVector(output_sequence_length))\n",
    "    model.add(GRU(256, return_sequences=True))\n",
    "    model.add(Dense(french_vocab_size))\n",
    "    model.add(Activation('softmax'))\n",
    "    \n",
    "    model.compile(loss=sparse_categorical_crossentropy,\n",
    "                  optimizer=Adam(learning_rate),\n",
    "                  metrics=['accuracy'])\n",
    "    \n",
    "    return model\n",
    "tests.test_encdec_model(encdec_model)\n",
    "\n",
    "# Reshaping the input to work with a basic RNN\n",
    "tmp_x = pad(preproc_english_sentences, preproc_french_sentences.shape[1])\n",
    "tmp_x = tmp_x.reshape((-1, preproc_french_sentences.shape[-2], 1))\n",
    "\n",
    "# Train the neural network\n",
    "encdec_rnn_model = encdec_model(\n",
    "    tmp_x.shape,\n",
    "    preproc_french_sentences.shape[1],\n",
    "    len(english_tokenizer.word_index)+1,\n",
    "    len(french_tokenizer.word_index)+1)\n",
    "encdec_rnn_model.fit(tmp_x, preproc_french_sentences, batch_size=1024, epochs=10, validation_split=0.2)\n",
    "\n",
    "# Print prediction(s)\n",
    "print(logits_to_text(encdec_rnn_model.predict(tmp_x[:1])[0], french_tokenizer))"
   ]
  },
  {
   "cell_type": "markdown",
   "metadata": {},
   "source": [
    "### Model 5: Custom (IMPLEMENTATION)\n",
    "Use everything you learned from the previous models to create a model that incorporates embedding and a bidirectional rnn into one model."
   ]
  },
  {
   "cell_type": "code",
   "execution_count": 35,
   "metadata": {},
   "outputs": [
    {
     "name": "stdout",
     "output_type": "stream",
     "text": [
      "Final Model Loaded\n"
     ]
    }
   ],
   "source": [
    "from keras.layers import GRU, Input, Dense, TimeDistributed\n",
    "from keras.models import Model, Sequential\n",
    "from keras.layers import Activation, LSTM\n",
    "from keras.optimizers import Adam\n",
    "from keras.losses import sparse_categorical_crossentropy\n",
    "from keras.layers import Bidirectional, Embedding\n",
    "\n",
    "def model_final(input_shape, output_sequence_length, english_vocab_size, french_vocab_size):\n",
    "    \"\"\"\n",
    "    Build and train a model that incorporates embedding, encoder-decoder, and bidirectional RNN on x and y\n",
    "    :param input_shape: Tuple of input shape\n",
    "    :param output_sequence_length: Length of output sequence\n",
    "    :param english_vocab_size: Number of unique English words in the dataset\n",
    "    :param french_vocab_size: Number of unique French words in the dataset\n",
    "    :return: Keras model built, but not trained\n",
    "    \"\"\"\n",
    "    learning_rate=0.001\n",
    "    model = Sequential()\n",
    "    model.add(Embedding(english_vocab_size, 512, input_length=input_shape[1]))\n",
    "    model.add(Bidirectional(GRU(512, return_sequences=False)))\n",
    "    model.add(RepeatVector(output_sequence_length))\n",
    "    model.add(Bidirectional(GRU(256, return_sequences=True)))\n",
    "    model.add(Dense(french_vocab_size))\n",
    "    model.add(Activation('softmax'))\n",
    "    \n",
    "    model.compile(loss=sparse_categorical_crossentropy,\n",
    "                  optimizer=Adam(learning_rate),\n",
    "                  metrics=['accuracy'])\n",
    "    \n",
    "    return model\n",
    "tests.test_model_final(model_final)\n",
    "\n",
    "\n",
    "print('Final Model Loaded')"
   ]
  },
  {
   "cell_type": "markdown",
   "metadata": {},
   "source": [
    "## Prediction (IMPLEMENTATION)"
   ]
  },
  {
   "cell_type": "code",
   "execution_count": 37,
   "metadata": {},
   "outputs": [
    {
     "name": "stdout",
     "output_type": "stream",
     "text": [
      "Train on 110288 samples, validate on 27573 samples\n",
      "Epoch 1/10\n",
      "110288/110288 [==============================] - 109s - loss: 2.4719 - acc: 0.4764 - val_loss: 1.7692 - val_acc: 0.5481\n",
      "Epoch 2/10\n",
      "110288/110288 [==============================] - 108s - loss: 1.5017 - acc: 0.6111 - val_loss: 1.3386 - val_acc: 0.6477\n",
      "Epoch 3/10\n",
      "110288/110288 [==============================] - 108s - loss: 1.1541 - acc: 0.6876 - val_loss: 1.0298 - val_acc: 0.7138\n",
      "Epoch 4/10\n",
      "110288/110288 [==============================] - 108s - loss: 0.9397 - acc: 0.7366 - val_loss: 0.8712 - val_acc: 0.7514\n",
      "Epoch 5/10\n",
      "110288/110288 [==============================] - 108s - loss: 0.7714 - acc: 0.7772 - val_loss: 0.6967 - val_acc: 0.7977\n",
      "Epoch 6/10\n",
      "110288/110288 [==============================] - 108s - loss: 0.6332 - acc: 0.8152 - val_loss: 0.5667 - val_acc: 0.8352\n",
      "Epoch 7/10\n",
      "110288/110288 [==============================] - 108s - loss: 0.5129 - acc: 0.8517 - val_loss: 0.4495 - val_acc: 0.8721\n",
      "Epoch 8/10\n",
      "110288/110288 [==============================] - 108s - loss: 0.4025 - acc: 0.8878 - val_loss: 0.3522 - val_acc: 0.9041\n",
      "Epoch 9/10\n",
      "110288/110288 [==============================] - 108s - loss: 0.3035 - acc: 0.9192 - val_loss: 0.2785 - val_acc: 0.9248\n",
      "Epoch 10/10\n",
      "110288/110288 [==============================] - 108s - loss: 0.2295 - acc: 0.9408 - val_loss: 0.2146 - val_acc: 0.9433\n",
      "new jersey est parfois calme pendant l' et il est est neigeux en avril <PAD> <PAD> <PAD> <PAD> <PAD> <PAD> <PAD>\n",
      "Sample 1:\n",
      "il a vu un vieux camion jaune <PAD> <PAD> <PAD> <PAD> <PAD> <PAD> <PAD> <PAD> <PAD> <PAD> <PAD> <PAD> <PAD> <PAD>\n",
      "Il a vu un vieux camion jaune\n",
      "Sample 2:\n",
      "new jersey est parfois calme pendant l' et il est est neigeux en avril <PAD> <PAD> <PAD> <PAD> <PAD> <PAD> <PAD>\n",
      "<PAD> <PAD> <PAD> <PAD> <PAD> <PAD> <PAD> <PAD> <PAD> <PAD> <PAD> <PAD> <PAD> <PAD> <PAD> <PAD> <PAD> <PAD> <PAD> <PAD> <PAD>\n"
     ]
    }
   ],
   "source": [
    "import numpy as np\n",
    "from keras.preprocessing.sequence import pad_sequences\n",
    "\n",
    "\n",
    "def final_predictions(x, y, x_tk, y_tk):\n",
    "    \"\"\"\n",
    "    Gets predictions using the final model\n",
    "    :param x: Preprocessed English data\n",
    "    :param y: Preprocessed French data\n",
    "    :param x_tk: English tokenizer\n",
    "    :param y_tk: French tokenizer\n",
    "    \"\"\"\n",
    "    # Train the neural network\n",
    "    model = model_final(\n",
    "        x.shape,\n",
    "        y.shape[1],\n",
    "        len(x_tk.word_index)+1,\n",
    "        len(y_tk.word_index)+1)\n",
    "    model.fit(x, y, batch_size=1024, epochs=10, validation_split=0.2)\n",
    "\n",
    "    # Print prediction(s)\n",
    "    print(logits_to_text(model.predict(x[:1])[0], y_tk))\n",
    "    \n",
    "    ## DON'T EDIT ANYTHING BELOW THIS LINE\n",
    "    y_id_to_word = {value: key for key, value in y_tk.word_index.items()}\n",
    "    y_id_to_word[0] = '<PAD>'\n",
    "\n",
    "    sentence = 'he saw a old yellow truck'\n",
    "    sentence = [x_tk.word_index[word] for word in sentence.split()]\n",
    "    sentence = pad_sequences([sentence], maxlen=x.shape[-1], padding='post')\n",
    "    sentences = np.array([sentence[0], x[0]])\n",
    "    predictions = model.predict(sentences, len(sentences))\n",
    "\n",
    "    print('Sample 1:')\n",
    "    print(' '.join([y_id_to_word[np.argmax(x)] for x in predictions[0]]))\n",
    "    print('Il a vu un vieux camion jaune')\n",
    "    print('Sample 2:')\n",
    "    print(' '.join([y_id_to_word[np.argmax(x)] for x in predictions[1]]))\n",
    "    print(' '.join([y_id_to_word[np.argmax(x)] for x in y[0]]))\n",
    "\n",
    "\n",
    "final_predictions(preproc_english_sentences, preproc_french_sentences, english_tokenizer, french_tokenizer)"
   ]
  },
  {
   "cell_type": "markdown",
   "metadata": {},
   "source": [
    "## Submission\n",
    "When you are ready to submit your project, do the following steps:\n",
    "1. Ensure you pass all points on the [rubric](https://review.udacity.com/#!/rubrics/1004/view).\n",
    "2. Submit the following in a zip file.\n",
    "  - `helper.py`\n",
    "  - `machine_translation.ipynb`\n",
    "  - `machine_translation.html`\n",
    "    - You can export the notebook by navigating to **File -> Download as -> HTML (.html)**."
   ]
  }
 ],
 "metadata": {
  "kernelspec": {
   "display_name": "Python 3",
   "language": "python",
   "name": "python3"
  },
  "language_info": {
   "codemirror_mode": {
    "name": "ipython",
    "version": 3
   },
   "file_extension": ".py",
   "mimetype": "text/x-python",
   "name": "python",
   "nbconvert_exporter": "python",
   "pygments_lexer": "ipython3",
   "version": "3.6.1"
  }
 },
 "nbformat": 4,
 "nbformat_minor": 1
}
